{
 "cells": [
  {
   "cell_type": "code",
   "execution_count": 1,
   "metadata": {},
   "outputs": [],
   "source": [
    "import pandas as pd\n",
    "import numpy as np\n",
    "import pickle\n",
    "from sklearn.feature_extraction.text import TfidfVectorizer\n",
    "from sklearn.model_selection import train_test_split\n",
    "from sklearn.feature_extraction.text import CountVectorizer\n",
    "from sklearn.naive_bayes import MultinomialNB\n",
    "\n",
    "dict = {0:\"Food\", 1:\"Hygiene\", 2:\"Home\", 3:\"Stationery\", 4:\"Clothes\", 5:\"Others\"}"
   ]
  },
  {
   "cell_type": "code",
   "execution_count": 2,
   "metadata": {},
   "outputs": [],
   "source": [
    "tfidf = TfidfVectorizer(sublinear_tf=True, min_df=10, norm='l2', encoding='latin-1', ngram_range=(1, 2), stop_words='english')\n",
    "a = pd.read_csv('data_fin.csv')\n",
    "features = tfidf.fit_transform(a['Name']).toarray()\n",
    "labels = a['category']"
   ]
  },
  {
   "cell_type": "code",
   "execution_count": 3,
   "metadata": {},
   "outputs": [
    {
     "name": "stdout",
     "output_type": "stream",
     "text": [
      "start\n",
      "done\n"
     ]
    }
   ],
   "source": [
    "print(\"start\")\n",
    "X_train, X_test, y_train, y_test = train_test_split(features,labels, test_size = 0.2, random_state = 10)\n",
    "clf = MultinomialNB().fit(X_train, y_train)\n",
    "print(\"done\")\n"
   ]
  },
  {
   "cell_type": "code",
   "execution_count": 4,
   "metadata": {},
   "outputs": [
    {
     "name": "stdout",
     "output_type": "stream",
     "text": [
      "[4 0 1 ... 1 3 1]\n",
      "Accuracy==> \n",
      "0.874502768894782\n"
     ]
    }
   ],
   "source": [
    "count = 0\n",
    "Y_pred = clf.predict(X_test)\n",
    "print(Y_pred)\n",
    "c = 0\n",
    "for i in y_test:\n",
    "    if(Y_pred[c] == i):\n",
    "        count+=1\n",
    "    c+=1\n",
    "print(\"Accuracy==> \")\n",
    "print(float(count)/Y_pred.shape[0])\n",
    "classifier = MultinomialNB().fit(features, labels)\n",
    "f = open('./MultinomialNB.pickle', 'wb')\n",
    "pickle.dump(classifier, f)\n",
    "f.close()\n",
    "f = open('./tfidf.pickle','wb')\n",
    "pickle.dump(tfidf, f)\n",
    "f.close()"
   ]
  },
  {
   "cell_type": "code",
   "execution_count": null,
   "metadata": {},
   "outputs": [],
   "source": []
  }
 ],
 "metadata": {
  "kernelspec": {
   "display_name": "Python 3",
   "language": "python",
   "name": "python3"
  },
  "language_info": {
   "codemirror_mode": {
    "name": "ipython",
    "version": 3
   },
   "file_extension": ".py",
   "mimetype": "text/x-python",
   "name": "python",
   "nbconvert_exporter": "python",
   "pygments_lexer": "ipython3",
   "version": "3.7.6"
  }
 },
 "nbformat": 4,
 "nbformat_minor": 4
}
